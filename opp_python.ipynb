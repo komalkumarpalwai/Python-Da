{
 "cells": [
  {
   "cell_type": "markdown",
   "id": "2dbebbd4-90f9-40b4-b18c-be715d0fd83c",
   "metadata": {},
   "source": [
    "#  Creating classes and objects\n"
   ]
  },
  {
   "cell_type": "code",
   "execution_count": 6,
   "id": "c0178cdd-69d3-4f75-88f8-f74c6aa148d0",
   "metadata": {},
   "outputs": [
    {
     "name": "stdout",
     "output_type": "stream",
     "text": [
      "hahahahahha\n"
     ]
    }
   ],
   "source": [
    "class dog:\n",
    "    def __init__(self,name,breed):\n",
    "        self.name=name\n",
    "        self.breed=breed\n",
    "       \n",
    "        \n",
    "    def bark(self):\n",
    "        print(\"hahahahahha\")\n",
    "\n",
    "dog1=dog(\"german shefered\",\"naughty\")\n",
    "dog1.bark()"
   ]
  },
  {
   "cell_type": "markdown",
   "id": "12cd0915-708e-4ffc-a054-cc1fdfea8fd7",
   "metadata": {},
   "source": [
    "# Combining objects"
   ]
  },
  {
   "cell_type": "code",
   "execution_count": 17,
   "id": "743ca66e-86c1-464b-aa92-6accee266b11",
   "metadata": {},
   "outputs": [
    {
     "name": "stdout",
     "output_type": "stream",
     "text": [
      "ahhhhhh\n",
      "komal,8989, 508126\n",
      "ppppp,8989, 508126\n"
     ]
    }
   ],
   "source": [
    "class dog:\n",
    "    def __init__(self,name,breed,owner):\n",
    "        self.name=name\n",
    "        self.breed=breed\n",
    "        self.owner=owner\n",
    "        \n",
    "    def bark(self):\n",
    "        print(\"ahhhhhh\")\n",
    "        \n",
    "        \n",
    "class owner:\n",
    "    def __init__(self,name, contactno,address):\n",
    "        self.name=name\n",
    "        self.phone=contactno\n",
    "        self.place=address\n",
    "    def __str__(self):\n",
    "        return f\"{self.name},{self.phone}, {self.place}\"\n",
    "Owner1=owner(\"komal\", 8989,\"508126\")\n",
    "dog1=dog(\"german shefered\",\"naughty\",Owner1)\n",
    "Owner2=owner(\"ppppp\", 8989,\"508126\")\n",
    "dog2=dog(\"shefered\",\"bull\",Owner2)\n",
    "dog2.bark()\n",
    "print(dog1.owner)\n",
    "print(dog2.owner)\n",
    "        \n",
    "        "
   ]
  },
  {
   "cell_type": "code",
   "execution_count": 23,
   "id": "925916f5-3f9d-4c0d-8fbd-fd5b4ad6c6e1",
   "metadata": {},
   "outputs": [
    {
     "name": "stdout",
     "output_type": "stream",
     "text": [
      "hello,my name is komal and my age is 21\n",
      "hello,my name is maxi and my age is 21\n"
     ]
    }
   ],
   "source": [
    "class person:\n",
    "    def __init__(self, name, age):\n",
    "        self.name=name\n",
    "        self.age=age\n",
    "    def greet(self):\n",
    "        print(f\"hello,my name is {self.name} and my age is {self.age}\")\n",
    "person1=person(\"komal\",21)\n",
    "person1.greet()\n",
    "person1=person(\"maxi\",21)\n",
    "person1.greet()\n",
    "    \n",
    "    "
   ]
  },
  {
   "cell_type": "markdown",
   "id": "1554ddce-7e9b-4051-80bf-ebe289a8d453",
   "metadata": {},
   "source": [
    "#  Accessing and modifying object data"
   ]
  },
  {
   "cell_type": "code",
   "execution_count": 44,
   "id": "6efeedae-0f59-4f9d-aa1a-56fd1f8a4331",
   "metadata": {},
   "outputs": [
    {
     "name": "stdout",
     "output_type": "stream",
     "text": [
      "sending msg to maxx: hi maxx, its k\n",
      "k@gmail.com\n",
      "komalp@gmail.com\n"
     ]
    }
   ],
   "source": [
    "class user:\n",
    "    def __init__(self, name, email, password):\n",
    "        self.name=name\n",
    "        self.email=email\n",
    "        self.password=password\n",
    "    def greet(self, user):\n",
    "        print(f\"sending msg to {user.name}: hi {user.name}, its {self.name}\")\n",
    "\n",
    "user1=user(\"k\",\"k@gmail.com\", 123)\n",
    "user2=user(\"maxx\",\"km@gmail.com\", 123)\n",
    "\n",
    "user1.greet(user2)\n",
    "print(user1.email)\n",
    "user1.email=\"komalp@gmail.com\"\n",
    "print(user1.email)\n",
    "        \n",
    "        "
   ]
  },
  {
   "cell_type": "markdown",
   "id": "f9b1a8ea-a52c-44c0-ac3c-b0ad0a2bba2a",
   "metadata": {},
   "source": [
    "# Access modifiers: protected attributes"
   ]
  },
  {
   "cell_type": "code",
   "execution_count": 58,
   "id": "95e80d84-a855-40bc-b168-445cb514fc8a",
   "metadata": {},
   "outputs": [
    {
     "name": "stdout",
     "output_type": "stream",
     "text": [
      "k@gmail.com\n",
      "komal@gmail.com\n"
     ]
    }
   ],
   "source": [
    "##protected is single underscore_\n",
    "class user:\n",
    "    def __init__(self, name, email, password):\n",
    "        self.name=name\n",
    "        self._email=email\n",
    "        self.password=password\n",
    "    def greet(self):\n",
    "        return self._email\n",
    "        \n",
    "\n",
    "user1=user(\"k\",\"k@gmail.com\", 123)\n",
    "user2=user(\"maxx\",\"km@gmail.com\", 123)\n",
    "print(user1._email)\n",
    "user1._email=\"komal@gmail.com\"\n",
    "print(user1._email)\n",
    "\n",
    "        "
   ]
  },
  {
   "cell_type": "code",
   "execution_count": 62,
   "id": "a5438898-39b7-4ed3-b3c2-3b73476dd61b",
   "metadata": {},
   "outputs": [
    {
     "ename": "AttributeError",
     "evalue": "'user' object has no attribute '__email'",
     "output_type": "error",
     "traceback": [
      "\u001b[1;31m---------------------------------------------------------------------------\u001b[0m",
      "\u001b[1;31mAttributeError\u001b[0m                            Traceback (most recent call last)",
      "Cell \u001b[1;32mIn[62], line 13\u001b[0m\n\u001b[0;32m     11\u001b[0m user1\u001b[38;5;241m=\u001b[39muser(\u001b[38;5;124m\"\u001b[39m\u001b[38;5;124mk\u001b[39m\u001b[38;5;124m\"\u001b[39m,\u001b[38;5;124m\"\u001b[39m\u001b[38;5;124mk@gmail.com\u001b[39m\u001b[38;5;124m\"\u001b[39m, \u001b[38;5;241m123\u001b[39m)\n\u001b[0;32m     12\u001b[0m user2\u001b[38;5;241m=\u001b[39muser(\u001b[38;5;124m\"\u001b[39m\u001b[38;5;124mmaxx\u001b[39m\u001b[38;5;124m\"\u001b[39m,\u001b[38;5;124m\"\u001b[39m\u001b[38;5;124mkm@gmail.com\u001b[39m\u001b[38;5;124m\"\u001b[39m, \u001b[38;5;241m123\u001b[39m)\n\u001b[1;32m---> 13\u001b[0m \u001b[38;5;28mprint\u001b[39m(user1\u001b[38;5;241m.\u001b[39m__email)\n",
      "\u001b[1;31mAttributeError\u001b[0m: 'user' object has no attribute '__email'"
     ]
    }
   ],
   "source": [
    "#private is double  underscore __\n",
    "class user:\n",
    "    def __init__(self, name, email, password):\n",
    "        self.name=name\n",
    "        self.__email=email\n",
    "        self.password=password\n",
    "    def greet(self):\n",
    "        return self._email\n",
    "        \n",
    "\n",
    "user1=user(\"k\",\"k@gmail.com\", 123)\n",
    "user2=user(\"maxx\",\"km@gmail.com\", 123)\n",
    "print(user1.__email)\n"
   ]
  },
  {
   "cell_type": "code",
   "execution_count": 80,
   "id": "5820d0db-6709-4456-aff5-8879e056b104",
   "metadata": {},
   "outputs": [
    {
     "name": "stdout",
     "output_type": "stream",
     "text": [
      "the is accessed by an user @2025-10-26 10:27:43.939250\n",
      "km@gmail.com\n",
      "enter a valid email\n",
      "the is accessed by an user @2025-10-26 10:27:43.939250\n",
      "km@gmail.com\n"
     ]
    }
   ],
   "source": [
    "# Creating getter and setter methods\n",
    "\n",
    "from datetime import datetime\n",
    "\n",
    "class user:\n",
    "    def __init__(self, name, email, password):\n",
    "        self.name=name\n",
    "        self._email=email\n",
    "        self.password=password\n",
    "    def get_email(self):\n",
    "        print(f\"the is accessed by an user @{datetime.now()}\")\n",
    "        return self._email\n",
    "    def set_email(self,new_email):\n",
    "        if \"@\" not in new_email:\n",
    "            print(\"enter a valid email\")\n",
    "        else:\n",
    "            self._email=new_email\n",
    "\n",
    "user1=user(\"maxx\",\"km@gmail.com\", 123)\n",
    "print(user1.get_email())\n",
    "user1.set_email(\"komgm\")\n",
    "print(user1.get_email())\n"
   ]
  },
  {
   "cell_type": "markdown",
   "id": "4794035a-6ced-4efc-9c20-f5892e972af5",
   "metadata": {},
   "source": [
    "# Properties"
   ]
  },
  {
   "cell_type": "code",
   "execution_count": 99,
   "id": "92697ff3-cda4-4616-a2c0-e2388300124d",
   "metadata": {},
   "outputs": [
    {
     "name": "stdout",
     "output_type": "stream",
     "text": [
      "error\n",
      "komal@gmail.com\n"
     ]
    }
   ],
   "source": [
    "class user:\n",
    "    def __init__(self, name, email, password):\n",
    "        self.name=name\n",
    "        self._email=email\n",
    "        self.password=password\n",
    "    @property\n",
    "    def email(self):\n",
    "        return self._email\n",
    "    @email.setter\n",
    "    def email(self,new_email):\n",
    "        if \"@\" in new_email:\n",
    "            self._email=new_email\n",
    "        else:\n",
    "            print(\"error\")\n",
    "        \n",
    "    \n",
    "user1=user(\"komal\",\"komal@gmail.com\",1919)\n",
    "user1.email=\"komal\"\n",
    "print(user1.email)\n"
   ]
  },
  {
   "cell_type": "markdown",
   "id": "61c0d818-1cd5-47ff-ba94-82ddb69cf594",
   "metadata": {},
   "source": [
    "# Static attributes"
   ]
  },
  {
   "cell_type": "code",
   "execution_count": 119,
   "id": "e1588e44-2978-4a85-b4c6-4a0bfa5a5cf2",
   "metadata": {},
   "outputs": [
    {
     "name": "stdout",
     "output_type": "stream",
     "text": [
      "3\n"
     ]
    }
   ],
   "source": [
    " \"\"\"A static attribute (or class variable) belongs to the class, not to individual objects.\n",
    "    All objects of the class share the same value of that attribute.\n",
    "    If you change it via the class, it changes for all instances.\n",
    "    \"\"\"\n",
    "\n",
    "\n",
    "class user:\n",
    "    user_count=0\n",
    "    def __init__(self, name, email, password):\n",
    "        self.name=name\n",
    "        self._email=email\n",
    "        self.password=password\n",
    "        user.user_count+=1\n",
    "    \n",
    "user1=user(\"komal\",\"komal@gmail.com\",1919)\n",
    "user2=user(\"komal\",\"komal@gmail.com\",1919)\n",
    "user3=user(\"komal\",\"komal@gmail.com\",1919)\n",
    "\n",
    "print(user1.user_count)\n"
   ]
  },
  {
   "cell_type": "markdown",
   "id": "fdb168dc-b91b-43da-92dc-8b58bc9d92ce",
   "metadata": {},
   "source": [
    "# Encapsulation"
   ]
  },
  {
   "cell_type": "code",
   "execution_count": 122,
   "id": "f2466515-ec31-43cd-a6bd-3d0df003ae57",
   "metadata": {},
   "outputs": [
    {
     "data": {
      "text/plain": [
       "'1. What is Encapsulation?\\nEncapsulation is an OOP concept that bundles the data (attributes) and methods that operate on that data into a single unit, i.e., a class.\\nIt restricts direct access to some of the object’s components.\\nIt protects the internal state of an object from unwanted modification.\\nAchieved in Python using access specifiers: public, _protected, __private (by convention).\\n2. Why use Encapsulation?\\nData hiding: Prevents external code from changing important variables directly.\\nSecurity: Sensitive information like passwords can be hidden.\\nControl: Allows validation when data is modified via getter and setter methods or properties.\\nMaintainability: Makes code easier to manage and change internally without affecting outside code.'"
      ]
     },
     "execution_count": 122,
     "metadata": {},
     "output_type": "execute_result"
    }
   ],
   "source": [
    "\"\"\"1. What is Encapsulation?\n",
    "Encapsulation is an OOP concept that bundles the data (attributes) and methods that operate on that data into a single unit, i.e., a class.\n",
    "It restricts direct access to some of the object’s components.\n",
    "It protects the internal state of an object from unwanted modification.\n",
    "Achieved in Python using access specifiers: public, _protected, __private (by convention).\n",
    "2. Why use Encapsulation?\n",
    "Data hiding: Prevents external code from changing important variables directly.\n",
    "Security: Sensitive information like passwords can be hidden.\n",
    "Control: Allows validation when data is modified via getter and setter methods or properties.\n",
    "Maintainability: Makes code easier to manage and change internally without affecting outside code.\"\"\""
   ]
  },
  {
   "cell_type": "code",
   "execution_count": 142,
   "id": "2d7b0d79-69b8-44fa-891f-ef9e90974408",
   "metadata": {},
   "outputs": [
    {
     "name": "stdout",
     "output_type": "stream",
     "text": [
      "0.0\n",
      "90.0\n"
     ]
    }
   ],
   "source": [
    "class BankAccount:\n",
    "    def __init__(self):\n",
    "        self._balance=0.0\n",
    "    @property\n",
    "    def balance(self):\n",
    "        return self._balance\n",
    "    def deposit(self, addMoney):\n",
    "        if addMoney <0:\n",
    "            print(\"amount must be +ve\")\n",
    "        self._balance+=addMoney\n",
    "    def withdraw(self, withdraw_Amount):\n",
    "        if withdraw_Amount <= 0:\n",
    "            raise ValueError(\"increase the withdraw amount\")\n",
    "        if withdraw_Amount >= self._balance:\n",
    "            raise ValueError(\"low balance\")\n",
    "        self._balance-=withdraw_Amount\n",
    "account=BankAccount()\n",
    "print(account.balance)\n",
    "account.deposit(100)\n",
    "account.withdraw(10)\n",
    "print(account.balance)\n",
    "\n",
    "    "
   ]
  },
  {
   "cell_type": "markdown",
   "id": "0fdbe6f5-ab6c-4590-95c4-ed795ec7682f",
   "metadata": {},
   "source": [
    "#  Abstraction"
   ]
  },
  {
   "cell_type": "code",
   "execution_count": 147,
   "id": "e7ec4389-e851-435e-92ac-5fc3174763cb",
   "metadata": {},
   "outputs": [
    {
     "data": {
      "text/plain": [
       "'Aspect\\tExplanation\\nHides complexity --->\\tUsers don’t see internal implementation\\nProvides interface --->\\tAbstract methods define “what” needs to be done\\nEnforced in child classes --->\\tSubclasses must implement abstract methods\\nDifferent from Encapsulation --->\\tEncapsulation hides data, abstraction hides implementation'"
      ]
     },
     "execution_count": 147,
     "metadata": {},
     "output_type": "execute_result"
    }
   ],
   "source": [
    "\"\"\"1. What is Abstraction?\n",
    "Abstraction is an OOP concept that hides the complex implementation details of a system and shows only the essential features to the user.\n",
    "It focuses on what an object does, not how it does it.\n",
    "In Python, abstraction is often achieved using:\n",
    "Abstract classes (abc module)\n",
    "Interfaces / method declarations without implementation\n",
    "2. Why use Abstraction?\n",
    "Simplifies the interface: Users don’t need to know internal details.\n",
    "Encourages modularity: Implementation can change without affecting users.\n",
    "Enforces implementation: Child classes must implement abstract methods.\"\"\"\n",
    "\n",
    "\"\"\"Aspect\tExplanation\n",
    "Hides complexity --->\tUsers don’t see internal implementation\n",
    "Provides interface --->\tAbstract methods define “what” needs to be done\n",
    "Enforced in child classes --->\tSubclasses must implement abstract methods\n",
    "Different from Encapsulation --->\tEncapsulation hides data, abstraction hides implementation\"\"\""
   ]
  },
  {
   "cell_type": "code",
   "execution_count": 155,
   "id": "17dc144e-a4b3-404b-86a2-0859e4b2bc2c",
   "metadata": {
    "scrolled": true
   },
   "outputs": [
    {
     "name": "stdout",
     "output_type": "stream",
     "text": [
      "connections to server\n",
      "authenticating\n",
      "sending mails\n",
      "disconnecting..\n",
      "None\n"
     ]
    }
   ],
   "source": [
    "class EmailServices:\n",
    "\n",
    "\n",
    "    def _connect(self):\n",
    "        print(\"connections to server\")\n",
    "    def _authentication(self):\n",
    "        print(\"authenticating\")\n",
    "    def sendmail(self):\n",
    "        self._connect()\n",
    "        self._authentication()\n",
    "        print(\"sending mails\")\n",
    "        self._disconnected()\n",
    "    def _disconnected(self):\n",
    "        print(\"disconnecting..\")\n",
    "p1=EmailServices()\n",
    "print(p1.sendmail())\n",
    "    "
   ]
  },
  {
   "cell_type": "markdown",
   "id": "0fb8a49c-d824-44da-89fb-992eb12b83c8",
   "metadata": {},
   "source": [
    "# Inheritance"
   ]
  },
  {
   "cell_type": "code",
   "execution_count": null,
   "id": "b71d4bdd-380a-468e-b07d-785eae87e4f6",
   "metadata": {},
   "outputs": [],
   "source": [
    "1. What is Inheritance?\n",
    "Inheritance is an OOP concept that allows a class (child/subclass) to reuse the properties and methods of another class (parent/superclass).\n",
    "Helps in code reusability and extensibility.\n",
    "2. Why use Inheritance?\n",
    "Reusability: Don’t rewrite code already present in a parent class.\n",
    "Maintainability: Changes in the parent class automatically reflect in child classes.\n",
    "Extensibility: Child classes can add or override functionality.\n",
    "3. Types of Inheritance in Python\n",
    "Single Inheritance – one parent, one child\n",
    "Multiple Inheritance – one child, multiple parents.\n",
    "Multilevel Inheritance – child inherits from parent, grandchild inherits from child.\n",
    "Hierarchical Inheritance – multiple children inherit from one parent."
   ]
  },
  {
   "cell_type": "code",
   "execution_count": 163,
   "id": "bae7c38a-b540-4128-9a96-556ac1c52abe",
   "metadata": {},
   "outputs": [
    {
     "name": "stdout",
     "output_type": "stream",
     "text": [
      "{'brand': 'bmw', 'model': '19', 'year': 2023, 'cname': 'm4 comp', 'cno': 'ts30a4829'}\n"
     ]
    }
   ],
   "source": [
    "class vehicle:\n",
    "    def __init__(self,brand, model, year):\n",
    "        self.brand=brand\n",
    "        self.model=model\n",
    "        self.year=year\n",
    "    def start(self):\n",
    "        print(\"vehicle is starting...\")\n",
    "    def stop(self):\n",
    "        print(\"vehicle is stopping..\")\n",
    "class car(vehicle):\n",
    "    def __init__(self,brand, model, year,cname,cno):\n",
    "        super().__init__(brand, model, year)\n",
    "\n",
    "        self.cname=cname\n",
    "        self.cno=cno\n",
    "\n",
    "class bike(vehicle):\n",
    "    def __init__(self,brand, model, year,Bname,Bno):\n",
    "        super().__init__(brand, model, year)\n",
    "\n",
    "        self.Bname=Bname\n",
    "        self.Bno=Bno\n",
    "\n",
    "Car=car(\"bmw\",\"19\",2023,\"m4 comp\",\"ts30a4829\")\n",
    "print(Car.__dict__)\n",
    "        \n",
    "    "
   ]
  },
  {
   "cell_type": "markdown",
   "id": "6976e6ac-07cf-4af3-987f-93669bf7ba90",
   "metadata": {},
   "source": [
    "# Polymorphism"
   ]
  },
  {
   "cell_type": "code",
   "execution_count": null,
   "id": "5d58c1b2-90b1-4a7f-a80e-a7f261dd3beb",
   "metadata": {},
   "outputs": [],
   "source": [
    "Polymorphism (OOP Concept)\n",
    "Meaning: “Many forms” – the same method or operator can behave differently depending on the object or data type.\n",
    "Key Points to Remember:\n",
    "One interface, multiple behaviors\n",
    "Same method name, different implementations in different classes.\n",
    "Types:\n",
    "Method Overriding (Runtime / Dynamic) – Child class redefines parent’s method.\n",
    "Operator Overloading / Duck Typing (Compile-time / Static) – Same operator works differently for different types.\n",
    "Benefits:\n",
    "Flexibility: Works with different objects seamlessly.\n",
    "Clean code: Avoids multiple if-else checks for object types.\n",
    "Reusability: Functions or methods can handle different object types.\n",
    "Example in mind:\n",
    "start() method in Vehicle, Car, and Bike → same name, behaves differently.\n",
    "+ operator → adds numbers, concatenates strings.\n",
    "Tip to Remember:\n",
    "“One name, many behaviors” → That’s Polymorphism."
   ]
  },
  {
   "cell_type": "code",
   "execution_count": null,
   "id": "2054bd87-7c2f-4d6a-b217-cb3b4aab8e03",
   "metadata": {},
   "outputs": [],
   "source": []
  }
 ],
 "metadata": {
  "kernelspec": {
   "display_name": "Python 3 (ipykernel)",
   "language": "python",
   "name": "python3"
  },
  "language_info": {
   "codemirror_mode": {
    "name": "ipython",
    "version": 3
   },
   "file_extension": ".py",
   "mimetype": "text/x-python",
   "name": "python",
   "nbconvert_exporter": "python",
   "pygments_lexer": "ipython3",
   "version": "3.12.4"
  }
 },
 "nbformat": 4,
 "nbformat_minor": 5
}
